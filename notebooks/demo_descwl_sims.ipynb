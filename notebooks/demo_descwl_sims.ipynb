{
 "cells": [
  {
   "cell_type": "code",
   "execution_count": 1,
   "id": "ac268716-6c15-48e3-8735-0d4d6b49051c",
   "metadata": {},
   "outputs": [],
   "source": [
    "import numpy as np\n",
    "from descwl_shear_sims.sim import make_sim, get_se_dim  # for making a simulation realization\n",
    "from descwl_shear_sims.psfs import make_fixed_psf\n",
    "from descwl_shear_sims.galaxies import FixedGalaxyCatalog  # one of the galaxy catalog classes\n",
    "import galsim"
   ]
  },
  {
   "cell_type": "code",
   "execution_count": 2,
   "id": "9c1039cb-8d98-4923-8cfe-8caab7b56137",
   "metadata": {},
   "outputs": [],
   "source": [
    "class GaussianGalaxyCatalog(FixedGalaxyCatalog):\n",
    "    def _get_galaxy(self, flux):\n",
    "        \"\"\"\n",
    "        get a galaxy object.  Use bulge+disk instead\n",
    "        of Exponential used in the FixedGalaxyCatalog\n",
    "\n",
    "        Parameters\n",
    "        ----------\n",
    "        flux: float\n",
    "            Flux of object\n",
    "\n",
    "        Returns\n",
    "        --------\n",
    "        galsim.GSObject\n",
    "        \"\"\"\n",
    "\n",
    "        gal_gauss = galsim.Gaussian(\n",
    "            half_light_radius=self.hlr,\n",
    "            flux=flux,\n",
    "        )\n",
    "\n",
    "        return gal_gauss"
   ]
  },
  {
   "cell_type": "code",
   "execution_count": 3,
   "id": "9454f735-e44a-41e6-ade3-94c99493e792",
   "metadata": {},
   "outputs": [],
   "source": [
    "seed = 8312\n",
    "rng = np.random.RandomState(seed)"
   ]
  },
  {
   "cell_type": "code",
   "execution_count": 4,
   "id": "a93d591a-29e0-43f5-ac42-0df76fbdefe3",
   "metadata": {},
   "outputs": [],
   "source": [
    "ntrial = 2\n",
    "coadd_dim = 351\n",
    "buff = 50"
   ]
  },
  {
   "cell_type": "code",
   "execution_count": 5,
   "id": "5c5df018-44e2-4d2c-832a-74f183818867",
   "metadata": {},
   "outputs": [
    {
     "name": "stdout",
     "output_type": "stream",
     "text": [
      "trial: 1/1\n",
      "bands: dict_keys(['i'])\n",
      "nepocs i: 1\n",
      "image shape: (361, 361)\n",
      "psf shape: (51, 51)\n",
      "coadd shape: (351, 351)\n"
     ]
    }
   ],
   "source": [
    "seed = 8312\n",
    "rng = np.random.RandomState(seed)\n",
    "\n",
    "ntrial = 1\n",
    "coadd_dim = 351\n",
    "buff = 50\n",
    "\n",
    "for trial in range(ntrial):\n",
    "    print('trial: %d/%d' % (trial+1, ntrial))\n",
    "\n",
    "    # galaxy catalog; you can make your own\n",
    "    galaxy_catalog = GaussianGalaxyCatalog(\n",
    "        rng=rng,\n",
    "        coadd_dim=coadd_dim,\n",
    "        buff=buff,\n",
    "        layout='grid',\n",
    "        mag=24,\n",
    "        hlr=1.0,\n",
    "        morph=\"gauss\",\n",
    "    )\n",
    "\n",
    "    # make a constant gaussian psf.  Any galsim object will do\n",
    "    psf = make_fixed_psf(psf_type='gauss')\n",
    "\n",
    "    # generate some simulation data, with a particular shear\n",
    "\n",
    "    sim_data = make_sim(\n",
    "        rng=rng,\n",
    "        galaxy_catalog=galaxy_catalog,\n",
    "        coadd_dim=coadd_dim,\n",
    "        g1=0.01,\n",
    "        g2=0.00,\n",
    "        psf=psf,\n",
    "        noise_factor=1e-5\n",
    "    )\n",
    "\n",
    "    # the sim_data has keys\n",
    "    #    band_data: a dict keyed by band with a list of single-epoch\n",
    "    #      observations objects, one for each epoch.  The class is\n",
    "    #      SEObs, defined in descwl_shear_sims.se_obs.py and has attributes\n",
    "    #      for the image, weight map, wcs, noise image, bmask and a psf\n",
    "    #      image generating method get_psf(x, y).  The images are galsim\n",
    "    #      Image objects.\n",
    "    #    coadd_wcs:  the wcs for the coadd\n",
    "    #    psf_dims:  dimensions of the psf\n",
    "    #    coadd_dims: dimensions of the coadd\n",
    "    print('bands:', sim_data['band_data'].keys())\n",
    "    print('nepocs i:', len(sim_data['band_data']['i']))\n",
    "    print('image shape:', sim_data['band_data']['i'][0].image.array.shape)\n",
    "    print('psf shape:', sim_data['psf_dims'])\n",
    "    print('coadd shape:', sim_data['coadd_dims'])"
   ]
  },
  {
   "cell_type": "code",
   "execution_count": 6,
   "id": "1e4462c1-39e0-4e07-889c-e81d84da70bc",
   "metadata": {},
   "outputs": [],
   "source": [
    "def show_obs_mpl(obs):\n",
    "    from matplotlib import pyplot as plt\n",
    "    plt.figure(figsize=(7,7))\n",
    "    plt.imshow(obs.image.array, cmap='gray', interpolation='nearest')\n",
    "    plt.colorbar()\n",
    "    plt.show()"
   ]
  },
  {
   "cell_type": "code",
   "execution_count": 7,
   "id": "44450ff2-931e-49d8-854b-5b81f0700584",
   "metadata": {},
   "outputs": [
    {
     "data": {
      "image/png": "[encoded data removed]",
      "text/plain": [
       "<Figure size 504x504 with 2 Axes>"
      ]
     },
     "metadata": {
      "needs_background": "light"
     },
     "output_type": "display_data"
    }
   ],
   "source": [
    "show_obs_mpl(sim_data['band_data']['i'][0])"
   ]
  },
  {
   "cell_type": "code",
   "execution_count": null,
   "id": "90fb9981-0b7b-4abf-80ea-882207fdf719",
   "metadata": {},
   "outputs": [],
   "source": []
  }
 ],
 "metadata": {
  "kernelspec": {
   "display_name": "Python 3 (ipykernel)",
   "language": "python",
   "name": "python3"
  },
  "language_info": {
   "codemirror_mode": {
    "name": "ipython",
    "version": 3
   },
   "file_extension": ".py",
   "mimetype": "text/x-python",
   "name": "python",
   "nbconvert_exporter": "python",
   "pygments_lexer": "ipython3",
   "version": "3.7.12"
  }
 },
 "nbformat": 4,
 "nbformat_minor": 5
}
